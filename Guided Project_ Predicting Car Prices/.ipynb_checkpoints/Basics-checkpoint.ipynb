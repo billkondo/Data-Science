{
 "cells": [
  {
   "cell_type": "markdown",
   "metadata": {
    "collapsed": true
   },
   "source": [
    "# Introduction to the data set\n",
    "In this project based on dataquest.io, we will explore a data set that contains information on various cars. This data can be found [here](https://archive.ics.uci.edu/ml/datasets/automobile) and we will use it to study the fundamentals of machine learing.\n",
    "\n",
    "In this section, we will import the data set and filter those colums that have continuous values(numbers)."
   ]
  },
  {
   "cell_type": "code",
   "execution_count": 1,
   "metadata": {
    "collapsed": false
   },
   "outputs": [],
   "source": [
    "import pandas as pd\n",
    "import numpy as np"
   ]
  },
  {
   "cell_type": "code",
   "execution_count": 2,
   "metadata": {
    "collapsed": true
   },
   "outputs": [],
   "source": [
    "columns =['symboling','normalized_losses','make','fuel_type','aspiration','num_doors','body_style','drive_wheels','engine_location','wheel_base','length','width','height','curb_weight','engine_type','num_cylinders','engine_size','fuel_system','bore','stroke','compression_ratio','horsepower','peak_rpm','city_mpg','highway_mpg','price']"
   ]
  },
  {
   "cell_type": "code",
   "execution_count": 3,
   "metadata": {
    "collapsed": false
   },
   "outputs": [
    {
     "data": {
      "text/html": [
       "<div>\n",
       "<table border=\"1\" class=\"dataframe\">\n",
       "  <thead>\n",
       "    <tr style=\"text-align: right;\">\n",
       "      <th></th>\n",
       "      <th>symboling</th>\n",
       "      <th>normalized_losses</th>\n",
       "      <th>make</th>\n",
       "      <th>fuel_type</th>\n",
       "      <th>aspiration</th>\n",
       "      <th>num_doors</th>\n",
       "      <th>body_style</th>\n",
       "      <th>drive_wheels</th>\n",
       "      <th>engine_location</th>\n",
       "      <th>wheel_base</th>\n",
       "      <th>...</th>\n",
       "      <th>engine_size</th>\n",
       "      <th>fuel_system</th>\n",
       "      <th>bore</th>\n",
       "      <th>stroke</th>\n",
       "      <th>compression_ratio</th>\n",
       "      <th>horsepower</th>\n",
       "      <th>peak_rpm</th>\n",
       "      <th>city_mpg</th>\n",
       "      <th>highway_mpg</th>\n",
       "      <th>price</th>\n",
       "    </tr>\n",
       "  </thead>\n",
       "  <tbody>\n",
       "    <tr>\n",
       "      <th>0</th>\n",
       "      <td>3</td>\n",
       "      <td>?</td>\n",
       "      <td>alfa-romero</td>\n",
       "      <td>gas</td>\n",
       "      <td>std</td>\n",
       "      <td>two</td>\n",
       "      <td>convertible</td>\n",
       "      <td>rwd</td>\n",
       "      <td>front</td>\n",
       "      <td>88.6</td>\n",
       "      <td>...</td>\n",
       "      <td>130</td>\n",
       "      <td>mpfi</td>\n",
       "      <td>3.47</td>\n",
       "      <td>2.68</td>\n",
       "      <td>9.0</td>\n",
       "      <td>111</td>\n",
       "      <td>5000</td>\n",
       "      <td>21</td>\n",
       "      <td>27</td>\n",
       "      <td>13495</td>\n",
       "    </tr>\n",
       "    <tr>\n",
       "      <th>1</th>\n",
       "      <td>3</td>\n",
       "      <td>?</td>\n",
       "      <td>alfa-romero</td>\n",
       "      <td>gas</td>\n",
       "      <td>std</td>\n",
       "      <td>two</td>\n",
       "      <td>convertible</td>\n",
       "      <td>rwd</td>\n",
       "      <td>front</td>\n",
       "      <td>88.6</td>\n",
       "      <td>...</td>\n",
       "      <td>130</td>\n",
       "      <td>mpfi</td>\n",
       "      <td>3.47</td>\n",
       "      <td>2.68</td>\n",
       "      <td>9.0</td>\n",
       "      <td>111</td>\n",
       "      <td>5000</td>\n",
       "      <td>21</td>\n",
       "      <td>27</td>\n",
       "      <td>16500</td>\n",
       "    </tr>\n",
       "    <tr>\n",
       "      <th>2</th>\n",
       "      <td>1</td>\n",
       "      <td>?</td>\n",
       "      <td>alfa-romero</td>\n",
       "      <td>gas</td>\n",
       "      <td>std</td>\n",
       "      <td>two</td>\n",
       "      <td>hatchback</td>\n",
       "      <td>rwd</td>\n",
       "      <td>front</td>\n",
       "      <td>94.5</td>\n",
       "      <td>...</td>\n",
       "      <td>152</td>\n",
       "      <td>mpfi</td>\n",
       "      <td>2.68</td>\n",
       "      <td>3.47</td>\n",
       "      <td>9.0</td>\n",
       "      <td>154</td>\n",
       "      <td>5000</td>\n",
       "      <td>19</td>\n",
       "      <td>26</td>\n",
       "      <td>16500</td>\n",
       "    </tr>\n",
       "    <tr>\n",
       "      <th>3</th>\n",
       "      <td>2</td>\n",
       "      <td>164</td>\n",
       "      <td>audi</td>\n",
       "      <td>gas</td>\n",
       "      <td>std</td>\n",
       "      <td>four</td>\n",
       "      <td>sedan</td>\n",
       "      <td>fwd</td>\n",
       "      <td>front</td>\n",
       "      <td>99.8</td>\n",
       "      <td>...</td>\n",
       "      <td>109</td>\n",
       "      <td>mpfi</td>\n",
       "      <td>3.19</td>\n",
       "      <td>3.40</td>\n",
       "      <td>10.0</td>\n",
       "      <td>102</td>\n",
       "      <td>5500</td>\n",
       "      <td>24</td>\n",
       "      <td>30</td>\n",
       "      <td>13950</td>\n",
       "    </tr>\n",
       "    <tr>\n",
       "      <th>4</th>\n",
       "      <td>2</td>\n",
       "      <td>164</td>\n",
       "      <td>audi</td>\n",
       "      <td>gas</td>\n",
       "      <td>std</td>\n",
       "      <td>four</td>\n",
       "      <td>sedan</td>\n",
       "      <td>4wd</td>\n",
       "      <td>front</td>\n",
       "      <td>99.4</td>\n",
       "      <td>...</td>\n",
       "      <td>136</td>\n",
       "      <td>mpfi</td>\n",
       "      <td>3.19</td>\n",
       "      <td>3.40</td>\n",
       "      <td>8.0</td>\n",
       "      <td>115</td>\n",
       "      <td>5500</td>\n",
       "      <td>18</td>\n",
       "      <td>22</td>\n",
       "      <td>17450</td>\n",
       "    </tr>\n",
       "  </tbody>\n",
       "</table>\n",
       "<p>5 rows × 26 columns</p>\n",
       "</div>"
      ],
      "text/plain": [
       "   symboling normalized_losses         make fuel_type aspiration num_doors  \\\n",
       "0          3                 ?  alfa-romero       gas        std       two   \n",
       "1          3                 ?  alfa-romero       gas        std       two   \n",
       "2          1                 ?  alfa-romero       gas        std       two   \n",
       "3          2               164         audi       gas        std      four   \n",
       "4          2               164         audi       gas        std      four   \n",
       "\n",
       "    body_style drive_wheels engine_location  wheel_base  ...    engine_size  \\\n",
       "0  convertible          rwd           front        88.6  ...            130   \n",
       "1  convertible          rwd           front        88.6  ...            130   \n",
       "2    hatchback          rwd           front        94.5  ...            152   \n",
       "3        sedan          fwd           front        99.8  ...            109   \n",
       "4        sedan          4wd           front        99.4  ...            136   \n",
       "\n",
       "   fuel_system  bore  stroke compression_ratio horsepower  peak_rpm city_mpg  \\\n",
       "0         mpfi  3.47    2.68               9.0        111      5000       21   \n",
       "1         mpfi  3.47    2.68               9.0        111      5000       21   \n",
       "2         mpfi  2.68    3.47               9.0        154      5000       19   \n",
       "3         mpfi  3.19    3.40              10.0        102      5500       24   \n",
       "4         mpfi  3.19    3.40               8.0        115      5500       18   \n",
       "\n",
       "  highway_mpg  price  \n",
       "0          27  13495  \n",
       "1          27  16500  \n",
       "2          26  16500  \n",
       "3          30  13950  \n",
       "4          22  17450  \n",
       "\n",
       "[5 rows x 26 columns]"
      ]
     },
     "execution_count": 3,
     "metadata": {},
     "output_type": "execute_result"
    }
   ],
   "source": [
    "# Data set does have header, so we can create one by adding 'names' parameter in pandas.read_csv() function \n",
    "cars = pd.read_csv(\"imports-85.data\", names=columns)\n",
    "cars.head()"
   ]
  },
  {
   "cell_type": "code",
   "execution_count": 4,
   "metadata": {
    "collapsed": false
   },
   "outputs": [
    {
     "data": {
      "text/html": [
       "<div>\n",
       "<table border=\"1\" class=\"dataframe\">\n",
       "  <thead>\n",
       "    <tr style=\"text-align: right;\">\n",
       "      <th></th>\n",
       "      <th>normalized_losses</th>\n",
       "      <th>wheel_base</th>\n",
       "      <th>length</th>\n",
       "      <th>width</th>\n",
       "      <th>height</th>\n",
       "      <th>curb_weight</th>\n",
       "      <th>engine_size</th>\n",
       "      <th>bore</th>\n",
       "      <th>stroke</th>\n",
       "      <th>compression_ratio</th>\n",
       "      <th>horsepower</th>\n",
       "      <th>peak_rpm</th>\n",
       "      <th>city_mpg</th>\n",
       "      <th>highway_mpg</th>\n",
       "      <th>price</th>\n",
       "    </tr>\n",
       "  </thead>\n",
       "  <tbody>\n",
       "    <tr>\n",
       "      <th>0</th>\n",
       "      <td>?</td>\n",
       "      <td>88.6</td>\n",
       "      <td>168.8</td>\n",
       "      <td>64.1</td>\n",
       "      <td>48.8</td>\n",
       "      <td>2548</td>\n",
       "      <td>130</td>\n",
       "      <td>3.47</td>\n",
       "      <td>2.68</td>\n",
       "      <td>9.0</td>\n",
       "      <td>111</td>\n",
       "      <td>5000</td>\n",
       "      <td>21</td>\n",
       "      <td>27</td>\n",
       "      <td>13495</td>\n",
       "    </tr>\n",
       "    <tr>\n",
       "      <th>1</th>\n",
       "      <td>?</td>\n",
       "      <td>88.6</td>\n",
       "      <td>168.8</td>\n",
       "      <td>64.1</td>\n",
       "      <td>48.8</td>\n",
       "      <td>2548</td>\n",
       "      <td>130</td>\n",
       "      <td>3.47</td>\n",
       "      <td>2.68</td>\n",
       "      <td>9.0</td>\n",
       "      <td>111</td>\n",
       "      <td>5000</td>\n",
       "      <td>21</td>\n",
       "      <td>27</td>\n",
       "      <td>16500</td>\n",
       "    </tr>\n",
       "    <tr>\n",
       "      <th>2</th>\n",
       "      <td>?</td>\n",
       "      <td>94.5</td>\n",
       "      <td>171.2</td>\n",
       "      <td>65.5</td>\n",
       "      <td>52.4</td>\n",
       "      <td>2823</td>\n",
       "      <td>152</td>\n",
       "      <td>2.68</td>\n",
       "      <td>3.47</td>\n",
       "      <td>9.0</td>\n",
       "      <td>154</td>\n",
       "      <td>5000</td>\n",
       "      <td>19</td>\n",
       "      <td>26</td>\n",
       "      <td>16500</td>\n",
       "    </tr>\n",
       "    <tr>\n",
       "      <th>3</th>\n",
       "      <td>164</td>\n",
       "      <td>99.8</td>\n",
       "      <td>176.6</td>\n",
       "      <td>66.2</td>\n",
       "      <td>54.3</td>\n",
       "      <td>2337</td>\n",
       "      <td>109</td>\n",
       "      <td>3.19</td>\n",
       "      <td>3.40</td>\n",
       "      <td>10.0</td>\n",
       "      <td>102</td>\n",
       "      <td>5500</td>\n",
       "      <td>24</td>\n",
       "      <td>30</td>\n",
       "      <td>13950</td>\n",
       "    </tr>\n",
       "    <tr>\n",
       "      <th>4</th>\n",
       "      <td>164</td>\n",
       "      <td>99.4</td>\n",
       "      <td>176.6</td>\n",
       "      <td>66.4</td>\n",
       "      <td>54.3</td>\n",
       "      <td>2824</td>\n",
       "      <td>136</td>\n",
       "      <td>3.19</td>\n",
       "      <td>3.40</td>\n",
       "      <td>8.0</td>\n",
       "      <td>115</td>\n",
       "      <td>5500</td>\n",
       "      <td>18</td>\n",
       "      <td>22</td>\n",
       "      <td>17450</td>\n",
       "    </tr>\n",
       "  </tbody>\n",
       "</table>\n",
       "</div>"
      ],
      "text/plain": [
       "  normalized_losses  wheel_base  length  width  height  curb_weight  \\\n",
       "0                 ?        88.6   168.8   64.1    48.8         2548   \n",
       "1                 ?        88.6   168.8   64.1    48.8         2548   \n",
       "2                 ?        94.5   171.2   65.5    52.4         2823   \n",
       "3               164        99.8   176.6   66.2    54.3         2337   \n",
       "4               164        99.4   176.6   66.4    54.3         2824   \n",
       "\n",
       "   engine_size  bore stroke  compression_ratio horsepower peak_rpm  city_mpg  \\\n",
       "0          130  3.47   2.68                9.0        111     5000        21   \n",
       "1          130  3.47   2.68                9.0        111     5000        21   \n",
       "2          152  2.68   3.47                9.0        154     5000        19   \n",
       "3          109  3.19   3.40               10.0        102     5500        24   \n",
       "4          136  3.19   3.40                8.0        115     5500        18   \n",
       "\n",
       "   highway_mpg  price  \n",
       "0           27  13495  \n",
       "1           27  16500  \n",
       "2           26  16500  \n",
       "3           30  13950  \n",
       "4           22  17450  "
      ]
     },
     "execution_count": 4,
     "metadata": {},
     "output_type": "execute_result"
    }
   ],
   "source": [
    "# Select only the columns with numberic values\n",
    "is_number = ['normalized_losses','wheel_base','length','width','height','curb_weight','engine_size','bore','stroke','compression_ratio','horsepower','peak_rpm','city_mpg','highway_mpg','price']\n",
    "numeric = cars[is_number]\n",
    "numeric.head()"
   ]
  },
  {
   "cell_type": "markdown",
   "metadata": {},
   "source": [
    "## Data Cleaning \n",
    "In this part, we will replace the missing values(represented as '?') on the table to NaN values because the DataFrame can deal better with NaN. Then, we will normalize the values in the table."
   ]
  },
  {
   "cell_type": "code",
   "execution_count": 5,
   "metadata": {
    "collapsed": false
   },
   "outputs": [
    {
     "data": {
      "text/html": [
       "<div>\n",
       "<table border=\"1\" class=\"dataframe\">\n",
       "  <thead>\n",
       "    <tr style=\"text-align: right;\">\n",
       "      <th></th>\n",
       "      <th>normalized_losses</th>\n",
       "      <th>wheel_base</th>\n",
       "      <th>length</th>\n",
       "      <th>width</th>\n",
       "      <th>height</th>\n",
       "      <th>curb_weight</th>\n",
       "      <th>engine_size</th>\n",
       "      <th>bore</th>\n",
       "      <th>stroke</th>\n",
       "      <th>compression_ratio</th>\n",
       "      <th>horsepower</th>\n",
       "      <th>peak_rpm</th>\n",
       "      <th>city_mpg</th>\n",
       "      <th>highway_mpg</th>\n",
       "      <th>price</th>\n",
       "    </tr>\n",
       "  </thead>\n",
       "  <tbody>\n",
       "    <tr>\n",
       "      <th>0</th>\n",
       "      <td>NaN</td>\n",
       "      <td>88.6</td>\n",
       "      <td>168.8</td>\n",
       "      <td>64.1</td>\n",
       "      <td>48.8</td>\n",
       "      <td>2548</td>\n",
       "      <td>130</td>\n",
       "      <td>3.47</td>\n",
       "      <td>2.68</td>\n",
       "      <td>9.0</td>\n",
       "      <td>111</td>\n",
       "      <td>5000</td>\n",
       "      <td>21</td>\n",
       "      <td>27</td>\n",
       "      <td>13495</td>\n",
       "    </tr>\n",
       "    <tr>\n",
       "      <th>1</th>\n",
       "      <td>NaN</td>\n",
       "      <td>88.6</td>\n",
       "      <td>168.8</td>\n",
       "      <td>64.1</td>\n",
       "      <td>48.8</td>\n",
       "      <td>2548</td>\n",
       "      <td>130</td>\n",
       "      <td>3.47</td>\n",
       "      <td>2.68</td>\n",
       "      <td>9.0</td>\n",
       "      <td>111</td>\n",
       "      <td>5000</td>\n",
       "      <td>21</td>\n",
       "      <td>27</td>\n",
       "      <td>16500</td>\n",
       "    </tr>\n",
       "    <tr>\n",
       "      <th>2</th>\n",
       "      <td>NaN</td>\n",
       "      <td>94.5</td>\n",
       "      <td>171.2</td>\n",
       "      <td>65.5</td>\n",
       "      <td>52.4</td>\n",
       "      <td>2823</td>\n",
       "      <td>152</td>\n",
       "      <td>2.68</td>\n",
       "      <td>3.47</td>\n",
       "      <td>9.0</td>\n",
       "      <td>154</td>\n",
       "      <td>5000</td>\n",
       "      <td>19</td>\n",
       "      <td>26</td>\n",
       "      <td>16500</td>\n",
       "    </tr>\n",
       "    <tr>\n",
       "      <th>3</th>\n",
       "      <td>164</td>\n",
       "      <td>99.8</td>\n",
       "      <td>176.6</td>\n",
       "      <td>66.2</td>\n",
       "      <td>54.3</td>\n",
       "      <td>2337</td>\n",
       "      <td>109</td>\n",
       "      <td>3.19</td>\n",
       "      <td>3.40</td>\n",
       "      <td>10.0</td>\n",
       "      <td>102</td>\n",
       "      <td>5500</td>\n",
       "      <td>24</td>\n",
       "      <td>30</td>\n",
       "      <td>13950</td>\n",
       "    </tr>\n",
       "    <tr>\n",
       "      <th>4</th>\n",
       "      <td>164</td>\n",
       "      <td>99.4</td>\n",
       "      <td>176.6</td>\n",
       "      <td>66.4</td>\n",
       "      <td>54.3</td>\n",
       "      <td>2824</td>\n",
       "      <td>136</td>\n",
       "      <td>3.19</td>\n",
       "      <td>3.40</td>\n",
       "      <td>8.0</td>\n",
       "      <td>115</td>\n",
       "      <td>5500</td>\n",
       "      <td>18</td>\n",
       "      <td>22</td>\n",
       "      <td>17450</td>\n",
       "    </tr>\n",
       "  </tbody>\n",
       "</table>\n",
       "</div>"
      ],
      "text/plain": [
       "  normalized_losses  wheel_base  length  width  height  curb_weight  \\\n",
       "0               NaN        88.6   168.8   64.1    48.8         2548   \n",
       "1               NaN        88.6   168.8   64.1    48.8         2548   \n",
       "2               NaN        94.5   171.2   65.5    52.4         2823   \n",
       "3               164        99.8   176.6   66.2    54.3         2337   \n",
       "4               164        99.4   176.6   66.4    54.3         2824   \n",
       "\n",
       "   engine_size  bore stroke  compression_ratio horsepower peak_rpm  city_mpg  \\\n",
       "0          130  3.47   2.68                9.0        111     5000        21   \n",
       "1          130  3.47   2.68                9.0        111     5000        21   \n",
       "2          152  2.68   3.47                9.0        154     5000        19   \n",
       "3          109  3.19   3.40               10.0        102     5500        24   \n",
       "4          136  3.19   3.40                8.0        115     5500        18   \n",
       "\n",
       "   highway_mpg  price  \n",
       "0           27  13495  \n",
       "1           27  16500  \n",
       "2           26  16500  \n",
       "3           30  13950  \n",
       "4           22  17450  "
      ]
     },
     "execution_count": 5,
     "metadata": {},
     "output_type": "execute_result"
    }
   ],
   "source": [
    "numeric = numeric.replace('?',np.nan)\n",
    "numeric.head()"
   ]
  },
  {
   "cell_type": "code",
   "execution_count": 6,
   "metadata": {
    "collapsed": false
   },
   "outputs": [
    {
     "data": {
      "text/plain": [
       "normalized_losses    41\n",
       "wheel_base            0\n",
       "length                0\n",
       "width                 0\n",
       "height                0\n",
       "curb_weight           0\n",
       "engine_size           0\n",
       "bore                  4\n",
       "stroke                4\n",
       "compression_ratio     0\n",
       "horsepower            2\n",
       "peak_rpm              2\n",
       "city_mpg              0\n",
       "highway_mpg           0\n",
       "price                 4\n",
       "dtype: int64"
      ]
     },
     "execution_count": 6,
     "metadata": {},
     "output_type": "execute_result"
    }
   ],
   "source": [
    "numeric = numeric.astype(float)\n",
    "\n",
    "# Check how many NULL values each row has\n",
    "numeric.isnull().sum()"
   ]
  },
  {
   "cell_type": "code",
   "execution_count": 7,
   "metadata": {
    "collapsed": false
   },
   "outputs": [
    {
     "data": {
      "text/plain": [
       "normalized_losses    37\n",
       "wheel_base            0\n",
       "length                0\n",
       "width                 0\n",
       "height                0\n",
       "curb_weight           0\n",
       "engine_size           0\n",
       "bore                  4\n",
       "stroke                4\n",
       "compression_ratio     0\n",
       "horsepower            2\n",
       "peak_rpm              2\n",
       "city_mpg              0\n",
       "highway_mpg           0\n",
       "price                 0\n",
       "dtype: int64"
      ]
     },
     "execution_count": 7,
     "metadata": {},
     "output_type": "execute_result"
    }
   ],
   "source": [
    "# Drop the rows that have NULL values in the 'price' column (target column)\n",
    "numeric = numeric.dropna(subset=['price'])\n",
    "numeric.isnull().sum()"
   ]
  },
  {
   "cell_type": "code",
   "execution_count": 8,
   "metadata": {
    "collapsed": false
   },
   "outputs": [
    {
     "data": {
      "text/plain": [
       "normalized_losses    0\n",
       "wheel_base           0\n",
       "length               0\n",
       "width                0\n",
       "height               0\n",
       "curb_weight          0\n",
       "engine_size          0\n",
       "bore                 0\n",
       "stroke               0\n",
       "compression_ratio    0\n",
       "horsepower           0\n",
       "peak_rpm             0\n",
       "city_mpg             0\n",
       "highway_mpg          0\n",
       "price                0\n",
       "dtype: int64"
      ]
     },
     "execution_count": 8,
     "metadata": {},
     "output_type": "execute_result"
    }
   ],
   "source": [
    "# Replace the NULL values by the mean of the column\n",
    "numeric = numeric.fillna(numeric.mean())\n",
    "numeric.isnull().sum()"
   ]
  },
  {
   "cell_type": "code",
   "execution_count": 9,
   "metadata": {
    "collapsed": true
   },
   "outputs": [],
   "source": [
    "# Normalize the columns to [0, 1] range\n",
    "price = numeric['price']\n",
    "numeric = (numeric - numeric.min()) / (numeric.max() - numeric.min())\n",
    "numeric['price'] = price"
   ]
  },
  {
   "cell_type": "markdown",
   "metadata": {},
   "source": [
    "## Univariate Model\n",
    "\n",
    "In this secton, we will make predictions over the data set using univariate k-nearest neightbors model."
   ]
  },
  {
   "cell_type": "code",
   "execution_count": 10,
   "metadata": {
    "collapsed": false
   },
   "outputs": [
    {
     "data": {
      "text/plain": [
       "engine_size          3238.462830\n",
       "horsepower           4037.037713\n",
       "curb_weight          4401.118255\n",
       "highway_mpg          4630.026799\n",
       "width                4704.482590\n",
       "city_mpg             4766.422505\n",
       "length               5427.200961\n",
       "wheel_base           5461.553998\n",
       "compression_ratio    6610.812153\n",
       "bore                 6780.627785\n",
       "normalized_losses    7330.197653\n",
       "peak_rpm             7697.459696\n",
       "stroke               8006.529545\n",
       "height               8144.441043\n",
       "dtype: float64"
      ]
     },
     "execution_count": 10,
     "metadata": {},
     "output_type": "execute_result"
    }
   ],
   "source": [
    "from sklearn.neighbors import KNeighborsRegressor\n",
    "from sklearn.metrics import mean_squared_error\n",
    "\n",
    "def knn_train_test(column, target, data):\n",
    "    knn = KNeighborsRegressor()\n",
    "    \n",
    "    # Permute the rows of the data\n",
    "    np.random.seed(1)\n",
    "    new_indexes = np.random.permutation(data.index)\n",
    "    data = data.reindex(new_indexes)\n",
    "\n",
    "    # Divide the set into training set and testing set\n",
    "    mid = int(len(data) / 2)\n",
    "    train = data.iloc[:mid]\n",
    "    test = data.iloc[mid:]\n",
    "    \n",
    "    # Train the data set\n",
    "    knn.fit(train[column], train[target])\n",
    "    \n",
    "    # Make the predictions in the test set\n",
    "    predictions = knn.predict(test[column])\n",
    "    \n",
    "    # Calculate MSE(Mean Squared Error)\n",
    "    mse = mean_squared_error(test[target], predictions)\n",
    "    \n",
    "    rmse = np.sqrt(mse)\n",
    "    \n",
    "    return rmse\n",
    "\n",
    "rmse_column = {}\n",
    "\n",
    "train_columns = numeric.columns.drop('price')\n",
    "\n",
    "for column in train_columns:\n",
    "    feature = [column]\n",
    "    rmse_column[column] = knn_train_test(feature,'price',numeric)\n",
    "    \n",
    "rmse_column = pd.Series(rmse_column)\n",
    "rmse_column.sort_values()"
   ]
  },
  {
   "cell_type": "code",
   "execution_count": 11,
   "metadata": {
    "collapsed": false
   },
   "outputs": [],
   "source": [
    "# Adapting the knn_train_test() function to accept the k parameter\n",
    "\n",
    "def knn_train_test(column, target, data, k):\n",
    "    knn = KNeighborsRegressor(n_neighbors=k)\n",
    "    \n",
    "    # Permute the rows of the data\n",
    "    np.random.seed(1)\n",
    "    new_indexes = np.random.permutation(data.index)\n",
    "    data = data.reindex(new_indexes)\n",
    "\n",
    "    # Divide the set into training set and testing set\n",
    "    mid = int(len(data) / 2)\n",
    "    train = data.iloc[:mid]\n",
    "    test = data.iloc[mid:]\n",
    "    \n",
    "    # Train the data set\n",
    "    knn.fit(train[column], train[target])\n",
    "    \n",
    "    # Make the predictions in the test set\n",
    "    predictions = knn.predict(test[column])\n",
    "    \n",
    "    # Calculate MSE(Mean Squared Error)\n",
    "    mse = mean_squared_error(test[target], predictions)\n",
    "    \n",
    "    rmse = np.sqrt(mse)\n",
    "    \n",
    "    return rmse\n",
    "\n",
    "train_columns = numeric.columns.drop('price')\n",
    "k_values = [1,3,5,7,9]\n",
    "\n",
    "rmse_column = {}\n",
    "\n",
    "for column in train_columns:\n",
    "    rmse_values = []\n",
    "    feature = [column]\n",
    "    for k in k_values:\n",
    "        rmse_values.append(knn_train_test(feature, 'price', numeric, k))\n",
    "    rmse_column[column] = rmse_values"
   ]
  },
  {
   "cell_type": "code",
   "execution_count": 12,
   "metadata": {
    "collapsed": false
   },
   "outputs": [
    {
     "data": {
      "image/png": "[encoded data removed]",
      "text/plain": [
       "<matplotlib.figure.Figure at 0x7f76216bda90>"
      ]
     },
     "metadata": {},
     "output_type": "display_data"
    }
   ],
   "source": [
    "# Plotting the graph to visualize the results \n",
    "\n",
    "import matplotlib.pyplot as plt \n",
    "%matplotlib inline\n",
    "\n",
    "for k, rmse in rmse_column.items():\n",
    "    x = list(k_values)\n",
    "    y = list(rmse)\n",
    "    plt.plot(x, y)\n",
    "\n",
    "plt.ylabel(\"RMSE\")\n",
    "plt.xlabel(\"K_VALUES\")\n",
    "plt.show()"
   ]
  },
  {
   "cell_type": "markdown",
   "metadata": {},
   "source": [
    "## Multivariate Model\n",
    "Let's adapt the last part to accept multiples columns."
   ]
  },
  {
   "cell_type": "code",
   "execution_count": 13,
   "metadata": {
    "collapsed": false
   },
   "outputs": [
    {
     "name": "stdout",
     "output_type": "stream",
     "text": [
      "RMSE_all_columns = 3726.63771831\n"
     ]
    }
   ],
   "source": [
    "# Testing all columns except price with defalut k value (k = 5)\n",
    "train_columns = numeric.columns.drop('price')\n",
    "RMSE_all_columns = knn_train_test(train_columns,'price',numeric,5)\n",
    "print('RMSE_all_columns = ' + str(RMSE_all_columns))"
   ]
  },
  {
   "cell_type": "code",
   "execution_count": 14,
   "metadata": {
    "collapsed": false
   },
   "outputs": [
    {
     "data": {
      "text/plain": [
       "engine_size          3346.484586\n",
       "horsepower           4219.377860\n",
       "width                4618.910560\n",
       "curb_weight          4730.075815\n",
       "highway_mpg          5069.469256\n",
       "length               5176.394904\n",
       "city_mpg             5202.409003\n",
       "wheel_base           5252.392462\n",
       "compression_ratio    7166.073599\n",
       "bore                 7222.472445\n",
       "normalized_losses    7624.407151\n",
       "stroke               8000.240467\n",
       "peak_rpm             8119.365233\n",
       "height               8163.346266\n",
       "dtype: float64"
      ]
     },
     "execution_count": 14,
     "metadata": {},
     "output_type": "execute_result"
    }
   ],
   "source": [
    "# For each feature(column), let's find the average of the rmse values calculated for each k\n",
    "\n",
    "avg_rmse = {}\n",
    "\n",
    "for key, rmse in rmse_column.items():\n",
    "    mean = np.mean(rmse)\n",
    "    avg_rmse[key] = mean\n",
    "\n",
    "avg_rmse = pd.Series(avg_rmse)\n",
    "avg_rmse.sort_values()"
   ]
  },
  {
   "cell_type": "code",
   "execution_count": 15,
   "metadata": {
    "collapsed": false
   },
   "outputs": [
    {
     "name": "stdout",
     "output_type": "stream",
     "text": [
      "best_two_features = 2949.88172772\n"
     ]
    }
   ],
   "source": [
    "# Using the best 2 features from the avg_rmse to train and test a multivariate k-nearest neighbors model with default k value\n",
    "\n",
    "features = ['engine_size', 'horsepower']\n",
    "best_two_features = knn_train_test(features, 'price', numeric, 5)\n",
    "print('best_two_features = ' + str(best_two_features))"
   ]
  },
  {
   "cell_type": "code",
   "execution_count": 16,
   "metadata": {
    "collapsed": false
   },
   "outputs": [
    {
     "name": "stdout",
     "output_type": "stream",
     "text": [
      "best_three_features = 3580.73766519\n"
     ]
    }
   ],
   "source": [
    "# Using the best 3 features from the avg_rmse to train and test a multivariate k-nearest neighbors model with default k value\n",
    "\n",
    "features = ['engine_size', 'horsepower', 'width']\n",
    "best_three_features = knn_train_test(features, 'price', numeric, 5)\n",
    "print('best_three_features = ' + str(best_three_features))"
   ]
  },
  {
   "cell_type": "code",
   "execution_count": 17,
   "metadata": {
    "collapsed": false
   },
   "outputs": [
    {
     "name": "stdout",
     "output_type": "stream",
     "text": [
      "best_four_features = 3487.34091733\n"
     ]
    }
   ],
   "source": [
    "# Using the best 4 features from the avg_rmse to train and test a multivariate k-nearest neighbors model with default k value\n",
    "\n",
    "features = ['engine_size', 'horsepower', 'width', 'curb_weight']\n",
    "best_four_features = knn_train_test(features, 'price', numeric, 5)\n",
    "print('best_four_features = ' + str(best_four_features))"
   ]
  },
  {
   "cell_type": "code",
   "execution_count": 18,
   "metadata": {
    "collapsed": false
   },
   "outputs": [
    {
     "name": "stdout",
     "output_type": "stream",
     "text": [
      "best_five_features = 3410.21701339\n"
     ]
    }
   ],
   "source": [
    "# Using the best 5 features from the avg_rmse to train and test a multivariate k-nearest neighbors model with default k value\n",
    "\n",
    "features = ['engine_size', 'horsepower', 'width', 'curb_weight', 'highway_mpg']\n",
    "best_five_features = knn_train_test(features, 'price', numeric, 5)\n",
    "print('best_five_features = ' + str(best_five_features))"
   ]
  },
  {
   "cell_type": "markdown",
   "metadata": {},
   "source": [
    "## Hyperparameter Tuning\n",
    "In this part, we will take best 3 models from last step, do the train and the test varying the hyperparameter(k value) from 1 to 25."
   ]
  },
  {
   "cell_type": "code",
   "execution_count": 19,
   "metadata": {
    "collapsed": false
   },
   "outputs": [
    {
     "data": {
      "image/png": "[encoded data removed]",
      "text/plain": [
       "<matplotlib.figure.Figure at 0x7f765526db38>"
      ]
     },
     "metadata": {},
     "output_type": "display_data"
    }
   ],
   "source": [
    "# From last step, the top 3 models are: best_two_features, best_four_features, best_five_features\n",
    "\n",
    "k_values = range(1,26)\n",
    "\n",
    "features_list = [['engine_size', 'horsepower'], ['engine_size', 'horsepower', 'width', 'curb_weight'], ['engine_size', 'horsepower', 'width', 'curb_weight', 'highway_mpg']]\n",
    "\n",
    "for feat in features_list:\n",
    "    rmse_values = []\n",
    "    for k in k_values:\n",
    "        rmse_values.append(knn_train_test(feat, 'price', numeric, k))\n",
    "    plt.plot(k_values, rmse_values)\n",
    "    \n",
    "plt.xticks(k_values)\n",
    "plt.xlabel(\"K Values\")\n",
    "plt.ylabel(\"RMSE\")\n",
    "plt.show()"
   ]
  },
  {
   "cell_type": "markdown",
   "metadata": {},
   "source": [
    "### Findings\n",
    "From the graph above, we see that the higher the hyperparameter, the higher is the RMSE value. A reason for this might be the high variance of the results in the tests."
   ]
  },
  {
   "cell_type": "markdown",
   "metadata": {},
   "source": [
    "## Next steps\n",
    "- Modify the knn_train_test() function to use k-fold cross validation instead of test/train validation\n",
    "- Modify the knn_train_test() function to perform the data cleaning as well"
   ]
  }
 ],
 "metadata": {
  "kernelspec": {
   "display_name": "Python 3",
   "language": "python",
   "name": "python3"
  },
  "language_info": {
   "codemirror_mode": {
    "name": "ipython",
    "version": 3
   },
   "file_extension": ".py",
   "mimetype": "text/x-python",
   "name": "python",
   "nbconvert_exporter": "python",
   "pygments_lexer": "ipython3",
   "version": "3.4.3"
  }
 },
 "nbformat": 4,
 "nbformat_minor": 2
}
